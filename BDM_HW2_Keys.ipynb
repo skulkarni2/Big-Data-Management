{
 "cells": [
  {
   "cell_type": "markdown",
   "metadata": {},
   "source": [
    "# Homework 2 Keys\n",
    "\n",
    "### DUE: 02/16/2017 before class at 10:30am\n",
    "\n",
    "The objective of this homework is for gaining experiences in designing *streaming* algorithms. Similar to Homework 1, we’re going to use the Citibike data sets posted on NYU Classes. In addition to **citibike.csv** we will also use **citibike_docking_events.csv**. Both of the data sets can be downloaded from the NYU Classes's Resources page. You are required to turn in this notebook with all the parts filled in place of <###>. Your notebook must be named BDM\\_HW2\\_**NetId**.ipynb.\n",
    "\n",
    "\n",
    "\n",
    "## Task 1 (6 points)\n",
    "\n",
    "Your task is to **compute the maximum number of active \"citibikers\"** that were using the Citibike service at any point in time. This the same as computing the maximum number of citibikes that were checked out at a particular time. The input data set is **citibike_docking_events.csv**, which logged all docking and undocking events at all Citibike stations. The description of the fields in this file is as follows:\n",
    "\n",
    "|Column name|Description|\n",
    "|--|--|\n",
    "|time |The timestamp of the event. All events are sorted increasingly by their timestamps. |\n",
    "|bikeid |The unique ID of the bike involved in this event. |\n",
    "|station_id |The station ID, where the event happened. |\n",
    "|event |A string of either *\"dock\"* or *\"undock\"* for describing the drop-off or pick-up event, respectively. |\n",
    "\n",
    "For example, let's assume that on *Feb-01-2015*, there was a user that picked a bike at the station ID *521* at midnight and dropped it at the station ID *423* at 14 minutes past midnight. If the bike that this customer used has the ID of *17131*, then you should see two events being logged in this data set as:\n",
    "\n",
    "<pre>\n",
    "...\n",
    "2015-02-01 00:00:00+00,17131,521,undock\n",
    "...\n",
    "2015-02-01 00:14:00+00,17131,423,dock\n",
    "...\n",
    "</pre>\n",
    "\n",
    "You are given the above data set in a streaming fashion (reading in row by row), and must design a streaming algorithm that uses the least possible additional memory to compute the maximum number of active users of the Citibike service. Please modify the code snippet below to complete this task. Your code should only output a single number, which is the number of active users. Of course, you can add additional initialization codes outside of the for loop as needed.\n",
    "Additional, please provide a brief rationale and/or justification for your design after the code."
   ]
  },
  {
   "cell_type": "code",
   "execution_count": 2,
   "metadata": {
    "collapsed": false
   },
   "outputs": [
    {
     "name": "stdout",
     "output_type": "stream",
     "text": [
      "250\n",
      "2015-02-05 08:55:00+00\n"
     ]
    }
   ],
   "source": [
    "import csv\n",
    "\n",
    "def csvRows(filename):\n",
    "    with open(filename, 'r') as fi:\n",
    "        reader = csv.DictReader(fi)\n",
    "        for row in reader:\n",
    "            yield row\n",
    "\n",
    "activeUsers = 0\n",
    "maxActiveUsers,maxTime = 0,None\n",
    "for row in csvRows('citibike_docking_events.csv'):\n",
    "    if row['event']=='undock':\n",
    "        activeUsers += 1\n",
    "        if activeUsers>maxActiveUsers:\n",
    "            maxActiveUsers,maxTime = activeUsers,row['time']\n",
    "    else:\n",
    "        activeUsers -= 1\n",
    "    \n",
    "print maxActiveUsers\n",
    "print maxTime"
   ]
  },
  {
   "cell_type": "markdown",
   "metadata": {},
   "source": [
    "#### RATIONALE AND JUSTIFICATION\n",
    "\n",
    "*Please explain your solution here*"
   ]
  },
  {
   "cell_type": "markdown",
   "metadata": {},
   "source": [
    "## Task 2 (4 points)\n",
    "\n",
    "The objective of this task is identical to Task 1's but you are asked to use the **cibibike.csv** data set instead of the docking events. The main difference (and challenge) is that both pick-up and drop-off event for each trip is now presented as a single record, thus, the drop-off events are not sorted by their timestamps. You are again asked to do this in a streaming fashion that needs to minimize the amount of memory usage. Please modify the code below accordingly, and also with a brief explaination of the solution."
   ]
  },
  {
   "cell_type": "code",
   "execution_count": 20,
   "metadata": {
    "collapsed": false
   },
   "outputs": [
    {
     "name": "stdout",
     "output_type": "stream",
     "text": [
      "250\n",
      "2015-02-05 08:55:00+00\n"
     ]
    }
   ],
   "source": [
    "import csv\n",
    "\n",
    "def csvRows(filename):\n",
    "    with open(filename, 'r') as fi:\n",
    "        reader = csv.DictReader(fi)\n",
    "        for row in reader:\n",
    "            yield row\n",
    "\n",
    "notYetReturn = []\n",
    "maxActiveUsers,maxTime = 0,None\n",
    "for row in csvRows('citibike.csv'):\n",
    "    starttime = row['starttime']\n",
    "    stoptime  = row['stoptime']\n",
    "    notYetReturn = filter(lambda x: x>starttime, notYetReturn) + [stoptime]\n",
    "    if len(notYetReturn)>maxActiveUsers:\n",
    "        maxActiveUsers,maxTime = len(notYetReturn),starttime\n",
    "    \n",
    "print maxActiveUsers\n",
    "print maxTime"
   ]
  },
  {
   "cell_type": "code",
   "execution_count": 17,
   "metadata": {
    "collapsed": false
   },
   "outputs": [
    {
     "name": "stdout",
     "output_type": "stream",
     "text": [
      "250\n",
      "2015-02-05 08:55:00+00\n"
     ]
    }
   ],
   "source": [
    "import csv\n",
    "import heapq\n",
    "\n",
    "def csvRows(filename):\n",
    "    with open(filename, 'r') as fi:\n",
    "        reader = csv.DictReader(fi)\n",
    "        for row in reader:\n",
    "            yield row\n",
    "\n",
    "notYetReturn = []\n",
    "maxActiveUsers,maxTime = 0,None\n",
    "for row in csvRows('citibike.csv'):\n",
    "    starttime = row['starttime']\n",
    "    stoptime  = row['stoptime']\n",
    "    heapq.heappush(notYetReturn, stoptime)\n",
    "    while starttime>=notYetReturn[0]:\n",
    "        heapq.heappop(notYetReturn)\n",
    "    if len(notYetReturn)>maxActiveUsers:\n",
    "        maxActiveUsers,maxTime = len(notYetReturn),starttime\n",
    "    \n",
    "print maxActiveUsers\n",
    "print maxTime"
   ]
  },
  {
   "cell_type": "code",
   "execution_count": 18,
   "metadata": {
    "collapsed": false
   },
   "outputs": [
    {
     "name": "stdout",
     "output_type": "stream",
     "text": [
      "250\n",
      "2015-02-05 08:55:00+00\n"
     ]
    }
   ],
   "source": [
    "import csv\n",
    "import heapq\n",
    "\n",
    "def csvRows(filename):\n",
    "    with open(filename, 'r') as fi:\n",
    "        reader = csv.DictReader(fi)\n",
    "        for row in reader:\n",
    "            yield row\n",
    "            \n",
    "def createEvents(rows):\n",
    "    notYetReturn = []\n",
    "    for row in rows:\n",
    "        starttime = row['starttime']\n",
    "        stoptime  = row['stoptime']\n",
    "        heapq.heappush(notYetReturn, stoptime)\n",
    "        while starttime>=notYetReturn[0]:\n",
    "            yield {'time': heapq.heappop(notYetReturn), 'event': 'dock'}\n",
    "        yield {'time': starttime, 'event': 'undock'}\n",
    "\n",
    "activeUsers = 0\n",
    "maxActiveUsers,maxTime = 0,None\n",
    "for row in createEvents(csvRows('citibike.csv')):\n",
    "    if row['event']=='undock':\n",
    "        activeUsers += 1\n",
    "        if activeUsers>maxActiveUsers:\n",
    "            maxActiveUsers,maxTime = activeUsers,row['time']\n",
    "    else:\n",
    "        activeUsers -= 1\n",
    "\n",
    "print maxActiveUsers\n",
    "print maxTime"
   ]
  },
  {
   "cell_type": "markdown",
   "metadata": {},
   "source": [
    "#### RATIONALE AND JUSTIFICATION\n",
    "\n",
    "*Please explain your solution here*"
   ]
  }
 ],
 "metadata": {
  "kernelspec": {
   "display_name": "Python 2",
   "language": "python",
   "name": "python2"
  },
  "language_info": {
   "codemirror_mode": {
    "name": "ipython",
    "version": 2
   },
   "file_extension": ".py",
   "mimetype": "text/x-python",
   "name": "python",
   "nbconvert_exporter": "python",
   "pygments_lexer": "ipython2",
   "version": "2.7.12"
  }
 },
 "nbformat": 4,
 "nbformat_minor": 0
}

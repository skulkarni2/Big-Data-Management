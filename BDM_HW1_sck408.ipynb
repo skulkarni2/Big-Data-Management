{
 "cells": [
  {
   "cell_type": "markdown",
   "metadata": {},
   "source": [
    "# Homework 1\n",
    "\n",
    "This homework is for practicing Python’s <i>generators</i> and <i>streaming</i>. We’re going to use the Citibike dataset posted on NYU Classes. You are required to turn in this notebook with all the parts filled in place of <###>. \n",
    "\n",
    "## Task 1 (4 points)\n",
    "\n",
    "Your task is to <b>compute the median age</b> of the Citibike’s <b>subscribed</b> customers, aka. usertype is \"Subscriber\". You are required to read data line by line and are not allowed to store the entire data set in memory. Indeed, you should not have any containers (e.g. list, dictionary, DataFrame, etc.) with more than a handful, e.g. strictly < 100, of elements in memory either as a local or a global variable. You can use the citibike.csv data file that we have on NYU Classes for testing, but we will evaluate your code on a much larger input to ensure it’s streaming capability.\n",
    "\n",
    "The code block below is taken mostly from our lab and would stream data from the citibike.csv for on-demand processing. The data file should be stored on the same folder with this notebook. You will need to replace the portion inside the for loop with your own code."
   ]
  },
  {
   "cell_type": "markdown",
   "metadata": {},
   "source": [
    "The code is compatible for Python 3.5 "
   ]
  },
  {
   "cell_type": "code",
   "execution_count": 5,
   "metadata": {
    "collapsed": false
   },
   "outputs": [
    {
     "name": "stdout",
     "output_type": "stream",
     "text": [
      "Median age is 40\n"
     ]
    }
   ],
   "source": [
    "import csv\n",
    "\n",
    "def csvRows(filename):\n",
    "    ''' This function creates a generator\n",
    "    of all the rows read one by one from the file(csv)\n",
    "    params: \n",
    "    filename: filename passed as string\n",
    "    '''\n",
    "    with open(filename, 'r') as fi:\n",
    "        reader = csv.DictReader(fi)\n",
    "        for row in reader:\n",
    "            if row[\"usertype\"] == \"Subscriber\":    ## check for 'Subscriber' \n",
    "                yield (2017 - int(row['birth_year']))   ## calculate the age of the subscriber and yield only the age. \n",
    "        \n",
    "## define variable\n",
    "age = {}   #in this case the length of 'age' is 70m which is <100 but for massive amount of data it could increase. \n",
    "for row in csvRows('citibike.csv'):  \n",
    "    age[row] = age.get(row, 0) + 1\n",
    "    \n",
    "medianAge = 0\n",
    "total = sum(age.values())     ## this is python 3 compatible change 'values' to 'itervalues' for python2.\n",
    "for k,v in sorted(age.items()):    ## this is python 3 compatible change 'items' to 'iteritems' for python2.\n",
    "    medianAge += v\n",
    "    if medianAge*2>=total:\n",
    "        print(\"Median age is %s\"%k)\n",
    "        break"
   ]
  },
  {
   "cell_type": "markdown",
   "metadata": {},
   "source": [
    "## Task 2 (6 points)\n",
    "\n",
    "Your task is to write a generator to extract the first ride of the day from a Citibike data stream. The data stream is sorted based on starting times (similar to the <b>citibike.csv</b> file uploaded on NYU Classes). The first ride of the day is interpreted as the ride with the earliest starting time of a day. For the sample data, which is a week worth of citibike records, your generator should only generate 7 items (one for each day).\n",
    "\n",
    "You are given a template with the sample generator <b>firstRide</b>. The generator currently takes in <b>csv.DictReader</b> generator and output its first element. Please adjust this generator to output the first ride of the day for the entire stream as specified above. The output of the generator must be in the same format as csv.DictReader. You can think of this generator as a filter only passing certain records out. \\"
   ]
  },
  {
   "cell_type": "code",
   "execution_count": 13,
   "metadata": {
    "collapsed": false
   },
   "outputs": [],
   "source": [
    "import csv\n",
    "import datetime\n",
    "from dateutil import parser\n",
    "from __future__ import print_function\n",
    "\n",
    "def firstRide(reader):\n",
    "    ''' This function reads a reader in csv.DictReader \n",
    "    Format and returns first ride of the each day of \n",
    "    a weekly data\n",
    "    '''\n",
    "    cur_date = None   ## This could be hardcoded to the start of the data as the data is sorted and know the information\n",
    "    for row in reader:     \n",
    "        starttime = parser.parse(row['starttime'])\n",
    "        date = starttime.date()\n",
    "        time = starttime.time()   \n",
    "        if date == cur_date: \n",
    "            continue\n",
    "        else:\n",
    "            cur_date = date\n",
    "            yield row"
   ]
  },
  {
   "cell_type": "code",
   "execution_count": 14,
   "metadata": {
    "collapsed": false
   },
   "outputs": [
    {
     "name": "stdout",
     "output_type": "stream",
     "text": [
      "1,,801,2015-02-01 00:00:00+00,2015-02-01 00:14:00+00,521,8 Ave & W 31 St,40.75044999,-73.99481051,423,W 54 St & 9 Ave,40.76584941,-73.98690506,17131,Subscriber,1978,2\n",
      "6442,,199,2015-02-02 00:02:00+00,2015-02-02 00:05:00+00,442,W 27 St & 7 Ave,40.746647,-73.993915,489,10 Ave & W 28 St,40.75066386,-74.00176802,20684,Subscriber,1992,1\n",
      "7901,,704,2015-02-03 00:00:00+00,2015-02-03 00:12:00+00,387,Centre St & Chambers St,40.71273266,-74.0046073,2008,Little West St & 1 Pl,40.70569254,-74.01677685,20328,Subscriber,1982,1\n",
      "12655,,146,2015-02-04 00:00:00+00,2015-02-04 00:02:00+00,237,E 11 St & 2 Ave,40.73047309,-73.98672378,438,St Marks Pl & 1 Ave,40.72779126,-73.98564945,15253,Subscriber,1969,1\n",
      "21628,,1034,2015-02-05 00:00:00+00,2015-02-05 00:17:00+00,497,E 17 St & Broadway,40.73704984,-73.99009296,461,E 20 St & 2 Ave,40.73587678,-73.98205027,20290,Subscriber,1971,1\n",
      "30836,,212,2015-02-06 00:01:00+00,2015-02-06 00:05:00+00,491,E 24 St & Park Ave S,40.74096374,-73.98602213,472,E 32 St & Park Ave,40.7457121,-73.98194829,19891,Subscriber,1989,1\n",
      "39412,,424,2015-02-07 00:00:00+00,2015-02-07 00:07:00+00,116,W 17 St & 8 Ave,40.74177603,-74.00149746,489,10 Ave & W 28 St,40.75066386,-74.00176802,19071,Subscriber,1963,1\n"
     ]
    }
   ],
   "source": [
    "with open('citibike.csv', 'r') as fi:\n",
    "    reader = csv.DictReader(fi)\n",
    "    for row in firstRide(reader):\n",
    "#         print row\n",
    "        print(','.join(map(row.get, reader.fieldnames)))"
   ]
  },
  {
   "cell_type": "code",
   "execution_count": null,
   "metadata": {
    "collapsed": true
   },
   "outputs": [],
   "source": []
  }
 ],
 "metadata": {
  "anaconda-cloud": {},
  "kernelspec": {
   "display_name": "Python 3",
   "language": "python",
   "name": "python3"
  },
  "language_info": {
   "codemirror_mode": {
    "name": "ipython",
    "version": 3
   },
   "file_extension": ".py",
   "mimetype": "text/x-python",
   "name": "python",
   "nbconvert_exporter": "python",
   "pygments_lexer": "ipython3",
   "version": "3.5.2"
  }
 },
 "nbformat": 4,
 "nbformat_minor": 0
}

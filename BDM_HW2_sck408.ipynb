{
 "cells": [
  {
   "cell_type": "markdown",
   "metadata": {},
   "source": [
    "# Homework 2\n",
    "\n",
    "\n",
    "## Task 1 (6 points)\n",
    "\n",
    "Your task is to **compute the maximum number of active \"citibikers\"** that were using the Citibike service at any point in time. This the same as computing the maximum number of citibikes that were checked out at a particular time. The input data set is **citibike_docking_events.csv**, which logged all docking and undocking events at all Citibike stations. The description of the fields in this file is as follows:\n",
    "\n",
    "|Column name|Description|\n",
    "|--|--|\n",
    "|time |The timestamp of the event. All events are sorted increasingly by their timestamps. |\n",
    "|bikeid |The unique ID of the bike involved in this event. |\n",
    "|station_id |The station ID, where the event happened. |\n",
    "|event |A string of either *\"dock\"* or *\"undock\"* for describing the drop-off or pick-up event, respectively. |\n",
    "\n",
    "For example, let's assume that on *Feb-01-2015*, there was a user that picked a bike at the station ID *521* at midnight and dropped it at the station ID *423* at 14 minutes past midnight. If the bike that this customer used has the ID of *17131*, then you should see two events being logged in this data set as:\n",
    "\n",
    "<pre>\n",
    "...\n",
    "2015-02-01 00:00:00+00,17131,521,undock\n",
    "...\n",
    "2015-02-01 00:14:00+00,17131,423,dock\n",
    "...\n",
    "</pre>\n",
    "\n",
    "You are given the above data set in a streaming fashion (reading in row by row), and must design a streaming algorithm that uses the least possible additional memory to compute the maximum number of active users of the Citibike service. Please modify the code snippet below to complete this task. Your code should only output a single number, which is the number of active users. Of course, you can add additional initialization codes outside of the for loop as needed.\n",
    "Additional, please provide a brief rationale and/or justification for your design after the code."
   ]
  },
  {
   "cell_type": "code",
   "execution_count": 1,
   "metadata": {
    "collapsed": false
   },
   "outputs": [
    {
     "name": "stdout",
     "output_type": "stream",
     "text": [
      "The maximum active citi bike users in the given dataset are : 250\n"
     ]
    }
   ],
   "source": [
    "import csv\n",
    "\n",
    "def csvRows(filename):\n",
    "    '''\n",
    "    This function creates a generator\n",
    "    of all the rows read one by one from the file(csv)\n",
    "    params: \n",
    "    filename: filename passed as string\n",
    "    '''\n",
    "    with open(filename, 'r') as fi:\n",
    "        reader = csv.DictReader(fi)\n",
    "        for row in reader:\n",
    "            yield row\n",
    "\n",
    "maxActiveUsers = 0\n",
    "count = 0\n",
    "for row in csvRows('citibike_docking_events.csv'):\n",
    "    if row[\"event\"] == \"undock\":\n",
    "        count+=1\n",
    "    elif row[\"event\"] ==\"dock\":\n",
    "        if maxActiveUsers <= count:\n",
    "            maxActiveUsers = count\n",
    "        count-=1\n",
    "\n",
    "print 'The maximum active citi bike users in the given dataset are :',maxActiveUsers"
   ]
  },
  {
   "cell_type": "markdown",
   "metadata": {},
   "source": [
    "#### RATIONALE AND JUSTIFICATION\n",
    "\n",
    "**Given dataset:** Sorted data acording to starttime timestamp. \n",
    "                    \n",
    "  Type of event either _undock_ of _dock_\n",
    "                    \n",
    "** Objective:** To find the maximum active citi bike users \n",
    "\n",
    "** Rationale:** \n",
    "The number of active citibike users are number of citibikes whose ride is not completed at any given point in time. The data is given in a _streaming fashion_ using a generator(csvRows) to create a data stream without storing it into the memory. A counter is initalized which is increased by every 'undock' event and decreased by a 'dock' event. This increment and decrement is possible as the dataset is sorted regardless of event type. \n",
    "The variable for maximum value for the count which is initalized to zero is compared to the counter and if the counter is greater than the maximum variable(maxActiveUser) then the maximum variable is overwritten by the counter value. \n"
   ]
  },
  {
   "cell_type": "markdown",
   "metadata": {},
   "source": [
    "## Task 2 (4 points)\n",
    "\n",
    "The objective of this task is identical to Task 1's but you are asked to use the **cibibike.csv** data set instead of the docking events. The main difference (and challenge) is that both pick-up and drop-off event for each trip is now presented as a single record, thus, the drop-off events are not sorted by their timestamps. You are again asked to do this in a streaming fashion that needs to minimize the amount of memory usage. Please modify the code below accordingly, and also with a brief explaination of the solution."
   ]
  },
  {
   "cell_type": "code",
   "execution_count": 2,
   "metadata": {
    "collapsed": false
   },
   "outputs": [
    {
     "name": "stdout",
     "output_type": "stream",
     "text": [
      "The maximum active citi bike users in the given dataset are : 250\n"
     ]
    }
   ],
   "source": [
    "import csv\n",
    "import datetime\n",
    "from dateutil import parser\n",
    "\n",
    "def csvRows(filename):\n",
    "    '''\n",
    "    This function craetes a generator\n",
    "    of all the rows taken one by one from the file(csv)\n",
    "    params: \n",
    "    filename: filename passed as string\n",
    "    '''\n",
    "    with open(filename, 'r') as fi:\n",
    "        reader = csv.DictReader(fi)\n",
    "        for row in reader:\n",
    "            yield row\n",
    "\n",
    "maxActiveUsers = 0\n",
    "count = 0\n",
    "stoplist = []   # list of stoptimes \n",
    "for row in csvRows('citibike.csv'):\n",
    "    starttime = parser.parse(row['starttime'])\n",
    "    stoptime = parser.parse(row['stoptime'])\n",
    "    stoplist.append(stoptime)\n",
    "    \n",
    "    #Use filter + lamba function to compare the starttime with the stoptime list. \n",
    "    stoplist = filter(lambda x: x > starttime, stoplist) \n",
    "    count = len(stoplist) \n",
    "    if count > maxActiveUsers:\n",
    "        maxActiveUsers = count\n",
    "    \n",
    "print 'The maximum active citi bike users in the given dataset are :',maxActiveUsers"
   ]
  },
  {
   "cell_type": "markdown",
   "metadata": {},
   "source": [
    "#### RATIONALE AND JUSTIFICATION\n",
    "\n"
   ]
  },
  {
   "cell_type": "markdown",
   "metadata": {},
   "source": [
    "**Given dataset:** Sorted dataset with respect to starttime of the ride. \n",
    "\n",
    "Starttime and stoptime within a single entry. \n",
    "                    \n",
    "** Objective:** To find the maximum active citi bike users with minimum amount of memory usage.\n",
    "\n",
    "** Rationale:**\n",
    "The data is given in a _streaming fashion_ using a generator(csvRows) as in the above problem. A list is created of the stoptime extracted from each row of the data. A counter and the maximum users variables are initialized to zero. A higher order function (filter and lamba) are used to compare the starttime with each element of the stoptime list. The counter is set to the total elements in the stoptime list which is further compared to the maximum user variable (maxActiveUsers) and the variable is overwritten with the counter value in case the counter is greater than the variable. \n",
    "The higher order function helps in iterating the function argument to result in required output without storing the process of the passed function. "
   ]
  },
  {
   "cell_type": "code",
   "execution_count": null,
   "metadata": {
    "collapsed": true
   },
   "outputs": [],
   "source": []
  }
 ],
 "metadata": {
  "anaconda-cloud": {},
  "kernelspec": {
   "display_name": "Python 2",
   "language": "python",
   "name": "python2"
  },
  "language_info": {
   "codemirror_mode": {
    "name": "ipython",
    "version": 2
   },
   "file_extension": ".py",
   "mimetype": "text/x-python",
   "name": "python",
   "nbconvert_exporter": "python",
   "pygments_lexer": "ipython2",
   "version": "2.7.13"
  }
 },
 "nbformat": 4,
 "nbformat_minor": 0
}
